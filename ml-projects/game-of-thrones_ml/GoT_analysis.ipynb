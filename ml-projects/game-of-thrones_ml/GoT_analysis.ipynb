{
 "cells": [
  {
   "cell_type": "code",
   "execution_count": 1,
   "metadata": {
    "collapsed": false
   },
   "outputs": [],
   "source": [
    "#Import the necessary libraries\n",
    "import pandas as pd\n",
    "import numpy as np\n",
    "import seaborn as sns\n",
    "import matplotlib as mpl\n",
    "import matplotlib.pyplot as plt\n",
    "\n",
    "plt.rcParams[\"axes.labelsize\"] = 16.\n",
    "plt.rcParams[\"xtick.labelsize\"] = 14.\n",
    "plt.rcParams[\"ytick.labelsize\"] = 14.\n",
    "plt.rcParams[\"legend.fontsize\"] = 12.\n",
    "plt.rcParams[\"figure.figsize\"] = [12., 4.]\n",
    "\n",
    "#Load the dataset\n",
    "battles = pd.read_csv('battles.csv')\n",
    "character_deaths = pd.read_csv('character-deaths.csv')\n",
    "character_predictions = pd.read_csv('character-predictions.csv')"
   ]
  },
  {
   "cell_type": "code",
   "execution_count": 2,
   "metadata": {
    "collapsed": false
   },
   "outputs": [
    {
     "data": {
      "text/html": [
       "<div>\n",
       "<table border=\"1\" class=\"dataframe\">\n",
       "  <thead>\n",
       "    <tr style=\"text-align: right;\">\n",
       "      <th></th>\n",
       "      <th>name</th>\n",
       "      <th>title</th>\n",
       "      <th>male</th>\n",
       "      <th>culture</th>\n",
       "      <th>dateOfBirth</th>\n",
       "      <th>DateoFdeath</th>\n",
       "      <th>mother</th>\n",
       "      <th>father</th>\n",
       "      <th>heir</th>\n",
       "      <th>house</th>\n",
       "      <th>...</th>\n",
       "      <th>isAliveHeir</th>\n",
       "      <th>isAliveSpouse</th>\n",
       "      <th>isMarried</th>\n",
       "      <th>isNoble</th>\n",
       "      <th>age</th>\n",
       "      <th>numDeadRelations</th>\n",
       "      <th>boolDeadRelations</th>\n",
       "      <th>isPopular</th>\n",
       "      <th>popularity</th>\n",
       "      <th>isAlive</th>\n",
       "    </tr>\n",
       "  </thead>\n",
       "  <tbody>\n",
       "    <tr>\n",
       "      <th>0</th>\n",
       "      <td>Viserys II Targaryen</td>\n",
       "      <td>NaN</td>\n",
       "      <td>1</td>\n",
       "      <td>NaN</td>\n",
       "      <td>NaN</td>\n",
       "      <td>NaN</td>\n",
       "      <td>Rhaenyra Targaryen</td>\n",
       "      <td>Daemon Targaryen</td>\n",
       "      <td>Aegon IV Targaryen</td>\n",
       "      <td>NaN</td>\n",
       "      <td>...</td>\n",
       "      <td>0.0</td>\n",
       "      <td>NaN</td>\n",
       "      <td>0</td>\n",
       "      <td>0</td>\n",
       "      <td>NaN</td>\n",
       "      <td>11</td>\n",
       "      <td>1</td>\n",
       "      <td>1</td>\n",
       "      <td>0.605351</td>\n",
       "      <td>0</td>\n",
       "    </tr>\n",
       "    <tr>\n",
       "      <th>1</th>\n",
       "      <td>Walder Frey</td>\n",
       "      <td>Lord of the Crossing</td>\n",
       "      <td>1</td>\n",
       "      <td>Rivermen</td>\n",
       "      <td>208.0</td>\n",
       "      <td>NaN</td>\n",
       "      <td>NaN</td>\n",
       "      <td>NaN</td>\n",
       "      <td>NaN</td>\n",
       "      <td>House Frey</td>\n",
       "      <td>...</td>\n",
       "      <td>NaN</td>\n",
       "      <td>1.0</td>\n",
       "      <td>1</td>\n",
       "      <td>1</td>\n",
       "      <td>97.0</td>\n",
       "      <td>1</td>\n",
       "      <td>1</td>\n",
       "      <td>1</td>\n",
       "      <td>0.896321</td>\n",
       "      <td>1</td>\n",
       "    </tr>\n",
       "    <tr>\n",
       "      <th>2</th>\n",
       "      <td>Addison Hill</td>\n",
       "      <td>Ser</td>\n",
       "      <td>1</td>\n",
       "      <td>NaN</td>\n",
       "      <td>NaN</td>\n",
       "      <td>NaN</td>\n",
       "      <td>NaN</td>\n",
       "      <td>NaN</td>\n",
       "      <td>NaN</td>\n",
       "      <td>House Swyft</td>\n",
       "      <td>...</td>\n",
       "      <td>NaN</td>\n",
       "      <td>NaN</td>\n",
       "      <td>0</td>\n",
       "      <td>1</td>\n",
       "      <td>NaN</td>\n",
       "      <td>0</td>\n",
       "      <td>0</td>\n",
       "      <td>0</td>\n",
       "      <td>0.267559</td>\n",
       "      <td>1</td>\n",
       "    </tr>\n",
       "    <tr>\n",
       "      <th>3</th>\n",
       "      <td>Aemma Arryn</td>\n",
       "      <td>Queen</td>\n",
       "      <td>0</td>\n",
       "      <td>NaN</td>\n",
       "      <td>82.0</td>\n",
       "      <td>105.0</td>\n",
       "      <td>NaN</td>\n",
       "      <td>NaN</td>\n",
       "      <td>NaN</td>\n",
       "      <td>House Arryn</td>\n",
       "      <td>...</td>\n",
       "      <td>NaN</td>\n",
       "      <td>0.0</td>\n",
       "      <td>1</td>\n",
       "      <td>1</td>\n",
       "      <td>23.0</td>\n",
       "      <td>0</td>\n",
       "      <td>0</td>\n",
       "      <td>0</td>\n",
       "      <td>0.183946</td>\n",
       "      <td>0</td>\n",
       "    </tr>\n",
       "    <tr>\n",
       "      <th>4</th>\n",
       "      <td>Sylva Santagar</td>\n",
       "      <td>Greenstone</td>\n",
       "      <td>0</td>\n",
       "      <td>Dornish</td>\n",
       "      <td>276.0</td>\n",
       "      <td>NaN</td>\n",
       "      <td>NaN</td>\n",
       "      <td>NaN</td>\n",
       "      <td>NaN</td>\n",
       "      <td>House Santagar</td>\n",
       "      <td>...</td>\n",
       "      <td>NaN</td>\n",
       "      <td>1.0</td>\n",
       "      <td>1</td>\n",
       "      <td>1</td>\n",
       "      <td>29.0</td>\n",
       "      <td>0</td>\n",
       "      <td>0</td>\n",
       "      <td>0</td>\n",
       "      <td>0.043478</td>\n",
       "      <td>1</td>\n",
       "    </tr>\n",
       "  </tbody>\n",
       "</table>\n",
       "<p>5 rows × 28 columns</p>\n",
       "</div>"
      ],
      "text/plain": [
       "                   name                 title  male   culture  dateOfBirth  \\\n",
       "0  Viserys II Targaryen                   NaN     1       NaN          NaN   \n",
       "1           Walder Frey  Lord of the Crossing     1  Rivermen        208.0   \n",
       "2          Addison Hill                   Ser     1       NaN          NaN   \n",
       "3           Aemma Arryn                 Queen     0       NaN         82.0   \n",
       "4        Sylva Santagar            Greenstone     0   Dornish        276.0   \n",
       "\n",
       "   DateoFdeath              mother            father                heir  \\\n",
       "0          NaN  Rhaenyra Targaryen  Daemon Targaryen  Aegon IV Targaryen   \n",
       "1          NaN                 NaN               NaN                 NaN   \n",
       "2          NaN                 NaN               NaN                 NaN   \n",
       "3        105.0                 NaN               NaN                 NaN   \n",
       "4          NaN                 NaN               NaN                 NaN   \n",
       "\n",
       "            house   ...    isAliveHeir  isAliveSpouse  isMarried  isNoble  \\\n",
       "0             NaN   ...            0.0            NaN          0        0   \n",
       "1      House Frey   ...            NaN            1.0          1        1   \n",
       "2     House Swyft   ...            NaN            NaN          0        1   \n",
       "3     House Arryn   ...            NaN            0.0          1        1   \n",
       "4  House Santagar   ...            NaN            1.0          1        1   \n",
       "\n",
       "    age  numDeadRelations  boolDeadRelations  isPopular  popularity  isAlive  \n",
       "0   NaN                11                  1          1    0.605351        0  \n",
       "1  97.0                 1                  1          1    0.896321        1  \n",
       "2   NaN                 0                  0          0    0.267559        1  \n",
       "3  23.0                 0                  0          0    0.183946        0  \n",
       "4  29.0                 0                  0          0    0.043478        1  \n",
       "\n",
       "[5 rows x 28 columns]"
      ]
     },
     "execution_count": 2,
     "metadata": {},
     "output_type": "execute_result"
    }
   ],
   "source": [
    "#Print first 5 rows of dataframe\n",
    "character_predictions.head()"
   ]
  },
  {
   "cell_type": "code",
   "execution_count": 3,
   "metadata": {
    "collapsed": false
   },
   "outputs": [],
   "source": [
    "#Drop the features such as Dob, Dod, mother, father, heir, spouse\n",
    "character_predictions = character_predictions.drop(['dateOfBirth','DateoFdeath', 'mother', 'father', 'heir', 'spouse'], axis = 1)"
   ]
  },
  {
   "cell_type": "code",
   "execution_count": 4,
   "metadata": {
    "collapsed": false
   },
   "outputs": [
    {
     "data": {
      "text/html": [
       "<div>\n",
       "<table border=\"1\" class=\"dataframe\">\n",
       "  <thead>\n",
       "    <tr style=\"text-align: right;\">\n",
       "      <th></th>\n",
       "      <th>male</th>\n",
       "      <th>book1</th>\n",
       "      <th>book2</th>\n",
       "      <th>book3</th>\n",
       "      <th>book4</th>\n",
       "      <th>book5</th>\n",
       "      <th>isAliveMother</th>\n",
       "      <th>isAliveFather</th>\n",
       "      <th>isAliveHeir</th>\n",
       "      <th>isAliveSpouse</th>\n",
       "      <th>isMarried</th>\n",
       "      <th>isNoble</th>\n",
       "      <th>age</th>\n",
       "      <th>numDeadRelations</th>\n",
       "      <th>boolDeadRelations</th>\n",
       "      <th>isPopular</th>\n",
       "      <th>popularity</th>\n",
       "      <th>isAlive</th>\n",
       "    </tr>\n",
       "  </thead>\n",
       "  <tbody>\n",
       "    <tr>\n",
       "      <th>count</th>\n",
       "      <td>1946.000000</td>\n",
       "      <td>1946.000000</td>\n",
       "      <td>1946.000000</td>\n",
       "      <td>1946.000000</td>\n",
       "      <td>1946.000000</td>\n",
       "      <td>1946.000000</td>\n",
       "      <td>21.000000</td>\n",
       "      <td>26.000000</td>\n",
       "      <td>23.000000</td>\n",
       "      <td>276.000000</td>\n",
       "      <td>1946.000000</td>\n",
       "      <td>1946.000000</td>\n",
       "      <td>433.000000</td>\n",
       "      <td>1946.000000</td>\n",
       "      <td>1946.000000</td>\n",
       "      <td>1946.000000</td>\n",
       "      <td>1946.000000</td>\n",
       "      <td>1946.000000</td>\n",
       "    </tr>\n",
       "    <tr>\n",
       "      <th>mean</th>\n",
       "      <td>0.619219</td>\n",
       "      <td>0.198356</td>\n",
       "      <td>0.374615</td>\n",
       "      <td>0.480473</td>\n",
       "      <td>0.591984</td>\n",
       "      <td>0.395170</td>\n",
       "      <td>0.714286</td>\n",
       "      <td>0.192308</td>\n",
       "      <td>0.652174</td>\n",
       "      <td>0.778986</td>\n",
       "      <td>0.141829</td>\n",
       "      <td>0.460946</td>\n",
       "      <td>-1293.563510</td>\n",
       "      <td>0.305755</td>\n",
       "      <td>0.074512</td>\n",
       "      <td>0.059096</td>\n",
       "      <td>0.089584</td>\n",
       "      <td>0.745632</td>\n",
       "    </tr>\n",
       "    <tr>\n",
       "      <th>std</th>\n",
       "      <td>0.485704</td>\n",
       "      <td>0.398864</td>\n",
       "      <td>0.484148</td>\n",
       "      <td>0.499747</td>\n",
       "      <td>0.491593</td>\n",
       "      <td>0.489013</td>\n",
       "      <td>0.462910</td>\n",
       "      <td>0.401918</td>\n",
       "      <td>0.486985</td>\n",
       "      <td>0.415684</td>\n",
       "      <td>0.348965</td>\n",
       "      <td>0.498601</td>\n",
       "      <td>19564.340993</td>\n",
       "      <td>1.383910</td>\n",
       "      <td>0.262669</td>\n",
       "      <td>0.235864</td>\n",
       "      <td>0.160568</td>\n",
       "      <td>0.435617</td>\n",
       "    </tr>\n",
       "    <tr>\n",
       "      <th>min</th>\n",
       "      <td>0.000000</td>\n",
       "      <td>0.000000</td>\n",
       "      <td>0.000000</td>\n",
       "      <td>0.000000</td>\n",
       "      <td>0.000000</td>\n",
       "      <td>0.000000</td>\n",
       "      <td>0.000000</td>\n",
       "      <td>0.000000</td>\n",
       "      <td>0.000000</td>\n",
       "      <td>0.000000</td>\n",
       "      <td>0.000000</td>\n",
       "      <td>0.000000</td>\n",
       "      <td>-298001.000000</td>\n",
       "      <td>0.000000</td>\n",
       "      <td>0.000000</td>\n",
       "      <td>0.000000</td>\n",
       "      <td>0.000000</td>\n",
       "      <td>0.000000</td>\n",
       "    </tr>\n",
       "    <tr>\n",
       "      <th>25%</th>\n",
       "      <td>0.000000</td>\n",
       "      <td>0.000000</td>\n",
       "      <td>0.000000</td>\n",
       "      <td>0.000000</td>\n",
       "      <td>0.000000</td>\n",
       "      <td>0.000000</td>\n",
       "      <td>0.000000</td>\n",
       "      <td>0.000000</td>\n",
       "      <td>0.000000</td>\n",
       "      <td>1.000000</td>\n",
       "      <td>0.000000</td>\n",
       "      <td>0.000000</td>\n",
       "      <td>18.000000</td>\n",
       "      <td>0.000000</td>\n",
       "      <td>0.000000</td>\n",
       "      <td>0.000000</td>\n",
       "      <td>0.013378</td>\n",
       "      <td>0.000000</td>\n",
       "    </tr>\n",
       "    <tr>\n",
       "      <th>50%</th>\n",
       "      <td>1.000000</td>\n",
       "      <td>0.000000</td>\n",
       "      <td>0.000000</td>\n",
       "      <td>0.000000</td>\n",
       "      <td>1.000000</td>\n",
       "      <td>0.000000</td>\n",
       "      <td>1.000000</td>\n",
       "      <td>0.000000</td>\n",
       "      <td>1.000000</td>\n",
       "      <td>1.000000</td>\n",
       "      <td>0.000000</td>\n",
       "      <td>0.000000</td>\n",
       "      <td>27.000000</td>\n",
       "      <td>0.000000</td>\n",
       "      <td>0.000000</td>\n",
       "      <td>0.000000</td>\n",
       "      <td>0.033445</td>\n",
       "      <td>1.000000</td>\n",
       "    </tr>\n",
       "    <tr>\n",
       "      <th>75%</th>\n",
       "      <td>1.000000</td>\n",
       "      <td>0.000000</td>\n",
       "      <td>1.000000</td>\n",
       "      <td>1.000000</td>\n",
       "      <td>1.000000</td>\n",
       "      <td>1.000000</td>\n",
       "      <td>1.000000</td>\n",
       "      <td>0.000000</td>\n",
       "      <td>1.000000</td>\n",
       "      <td>1.000000</td>\n",
       "      <td>0.000000</td>\n",
       "      <td>1.000000</td>\n",
       "      <td>50.000000</td>\n",
       "      <td>0.000000</td>\n",
       "      <td>0.000000</td>\n",
       "      <td>0.000000</td>\n",
       "      <td>0.086957</td>\n",
       "      <td>1.000000</td>\n",
       "    </tr>\n",
       "    <tr>\n",
       "      <th>max</th>\n",
       "      <td>1.000000</td>\n",
       "      <td>1.000000</td>\n",
       "      <td>1.000000</td>\n",
       "      <td>1.000000</td>\n",
       "      <td>1.000000</td>\n",
       "      <td>1.000000</td>\n",
       "      <td>1.000000</td>\n",
       "      <td>1.000000</td>\n",
       "      <td>1.000000</td>\n",
       "      <td>1.000000</td>\n",
       "      <td>1.000000</td>\n",
       "      <td>1.000000</td>\n",
       "      <td>100.000000</td>\n",
       "      <td>15.000000</td>\n",
       "      <td>1.000000</td>\n",
       "      <td>1.000000</td>\n",
       "      <td>1.000000</td>\n",
       "      <td>1.000000</td>\n",
       "    </tr>\n",
       "  </tbody>\n",
       "</table>\n",
       "</div>"
      ],
      "text/plain": [
       "              male        book1        book2        book3        book4  \\\n",
       "count  1946.000000  1946.000000  1946.000000  1946.000000  1946.000000   \n",
       "mean      0.619219     0.198356     0.374615     0.480473     0.591984   \n",
       "std       0.485704     0.398864     0.484148     0.499747     0.491593   \n",
       "min       0.000000     0.000000     0.000000     0.000000     0.000000   \n",
       "25%       0.000000     0.000000     0.000000     0.000000     0.000000   \n",
       "50%       1.000000     0.000000     0.000000     0.000000     1.000000   \n",
       "75%       1.000000     0.000000     1.000000     1.000000     1.000000   \n",
       "max       1.000000     1.000000     1.000000     1.000000     1.000000   \n",
       "\n",
       "             book5  isAliveMother  isAliveFather  isAliveHeir  isAliveSpouse  \\\n",
       "count  1946.000000      21.000000      26.000000    23.000000     276.000000   \n",
       "mean      0.395170       0.714286       0.192308     0.652174       0.778986   \n",
       "std       0.489013       0.462910       0.401918     0.486985       0.415684   \n",
       "min       0.000000       0.000000       0.000000     0.000000       0.000000   \n",
       "25%       0.000000       0.000000       0.000000     0.000000       1.000000   \n",
       "50%       0.000000       1.000000       0.000000     1.000000       1.000000   \n",
       "75%       1.000000       1.000000       0.000000     1.000000       1.000000   \n",
       "max       1.000000       1.000000       1.000000     1.000000       1.000000   \n",
       "\n",
       "         isMarried      isNoble            age  numDeadRelations  \\\n",
       "count  1946.000000  1946.000000     433.000000       1946.000000   \n",
       "mean      0.141829     0.460946   -1293.563510          0.305755   \n",
       "std       0.348965     0.498601   19564.340993          1.383910   \n",
       "min       0.000000     0.000000 -298001.000000          0.000000   \n",
       "25%       0.000000     0.000000      18.000000          0.000000   \n",
       "50%       0.000000     0.000000      27.000000          0.000000   \n",
       "75%       0.000000     1.000000      50.000000          0.000000   \n",
       "max       1.000000     1.000000     100.000000         15.000000   \n",
       "\n",
       "       boolDeadRelations    isPopular   popularity      isAlive  \n",
       "count        1946.000000  1946.000000  1946.000000  1946.000000  \n",
       "mean            0.074512     0.059096     0.089584     0.745632  \n",
       "std             0.262669     0.235864     0.160568     0.435617  \n",
       "min             0.000000     0.000000     0.000000     0.000000  \n",
       "25%             0.000000     0.000000     0.013378     0.000000  \n",
       "50%             0.000000     0.000000     0.033445     1.000000  \n",
       "75%             0.000000     0.000000     0.086957     1.000000  \n",
       "max             1.000000     1.000000     1.000000     1.000000  "
      ]
     },
     "execution_count": 4,
     "metadata": {},
     "output_type": "execute_result"
    }
   ],
   "source": [
    "character_predictions.describe()"
   ]
  },
  {
   "cell_type": "code",
   "execution_count": 5,
   "metadata": {
    "collapsed": true
   },
   "outputs": [],
   "source": [
    "#Drop features such as isAliveMother, isAliveFather, isAliveHeir, isAliveSpouse, Age as they have very few entries\n",
    "character_predictions.drop(['isAliveMother', 'isAliveFather', 'isAliveHeir', 'isAliveSpouse', 'age'], axis = 1, inplace = True)"
   ]
  },
  {
   "cell_type": "code",
   "execution_count": 6,
   "metadata": {
    "collapsed": false
   },
   "outputs": [],
   "source": [
    "#Store character's name in another Series\n",
    "char_name = character_predictions['name']\n",
    "character_predictions.drop('name', axis = 1 , inplace = True)"
   ]
  },
  {
   "cell_type": "code",
   "execution_count": 7,
   "metadata": {
    "collapsed": false
   },
   "outputs": [
    {
     "name": "stderr",
     "output_type": "stream",
     "text": [
      "/home/shubham/anaconda2/lib/python2.7/site-packages/sklearn/utils/validation.py:429: DataConversionWarning: Data with input dtype int64 was converted to float64 by MinMaxScaler.\n",
      "  warnings.warn(msg, _DataConversionWarning)\n",
      "/home/shubham/anaconda2/lib/python2.7/site-packages/sklearn/preprocessing/data.py:321: DeprecationWarning: Passing 1d arrays as data is deprecated in 0.17 and will raise ValueError in 0.19. Reshape your data either using X.reshape(-1, 1) if your data has a single feature or X.reshape(1, -1) if it contains a single sample.\n",
      "  warnings.warn(DEPRECATION_MSG_1D, DeprecationWarning)\n",
      "/home/shubham/anaconda2/lib/python2.7/site-packages/sklearn/preprocessing/data.py:356: DeprecationWarning: Passing 1d arrays as data is deprecated in 0.17 and will raise ValueError in 0.19. Reshape your data either using X.reshape(-1, 1) if your data has a single feature or X.reshape(1, -1) if it contains a single sample.\n",
      "  warnings.warn(DEPRECATION_MSG_1D, DeprecationWarning)\n"
     ]
    }
   ],
   "source": [
    "#Scale numDeadRelations feature\n",
    "from sklearn import preprocessing\n",
    "\n",
    "scaler = preprocessing.MinMaxScaler()\n",
    "character_predictions['numDeadRelations'] = scaler.fit_transform(character_predictions['numDeadRelations'])"
   ]
  },
  {
   "cell_type": "code",
   "execution_count": 8,
   "metadata": {
    "collapsed": false
   },
   "outputs": [],
   "source": [
    "#Split the dataset into features and labels\n",
    "label_characters = character_predictions['isAlive']\n",
    "feature_characters = character_predictions.drop('isAlive', axis =1)"
   ]
  },
  {
   "cell_type": "code",
   "execution_count": 9,
   "metadata": {
    "collapsed": true
   },
   "outputs": [],
   "source": [
    "feature_characters = pd.get_dummies(feature_characters)"
   ]
  },
  {
   "cell_type": "code",
   "execution_count": 10,
   "metadata": {
    "collapsed": false
   },
   "outputs": [
    {
     "data": {
      "text/html": [
       "<div>\n",
       "<table border=\"1\" class=\"dataframe\">\n",
       "  <thead>\n",
       "    <tr style=\"text-align: right;\">\n",
       "      <th></th>\n",
       "      <th>male</th>\n",
       "      <th>book1</th>\n",
       "      <th>book2</th>\n",
       "      <th>book3</th>\n",
       "      <th>book4</th>\n",
       "      <th>book5</th>\n",
       "      <th>isMarried</th>\n",
       "      <th>isNoble</th>\n",
       "      <th>numDeadRelations</th>\n",
       "      <th>boolDeadRelations</th>\n",
       "      <th>...</th>\n",
       "      <th>house_The Citadel</th>\n",
       "      <th>house_Thenn</th>\n",
       "      <th>house_Thirteen</th>\n",
       "      <th>house_Three-eyed crow</th>\n",
       "      <th>house_Undying Ones</th>\n",
       "      <th>house_Unsullied</th>\n",
       "      <th>house_Windblown</th>\n",
       "      <th>house_Wise Masters</th>\n",
       "      <th>house_brotherhood without banners</th>\n",
       "      <th>house_wildling</th>\n",
       "    </tr>\n",
       "  </thead>\n",
       "  <tbody>\n",
       "    <tr>\n",
       "      <th>0</th>\n",
       "      <td>1</td>\n",
       "      <td>0</td>\n",
       "      <td>0</td>\n",
       "      <td>0</td>\n",
       "      <td>0</td>\n",
       "      <td>0</td>\n",
       "      <td>0</td>\n",
       "      <td>0</td>\n",
       "      <td>0.733333</td>\n",
       "      <td>1</td>\n",
       "      <td>...</td>\n",
       "      <td>0</td>\n",
       "      <td>0</td>\n",
       "      <td>0</td>\n",
       "      <td>0</td>\n",
       "      <td>0</td>\n",
       "      <td>0</td>\n",
       "      <td>0</td>\n",
       "      <td>0</td>\n",
       "      <td>0</td>\n",
       "      <td>0</td>\n",
       "    </tr>\n",
       "    <tr>\n",
       "      <th>1</th>\n",
       "      <td>1</td>\n",
       "      <td>1</td>\n",
       "      <td>1</td>\n",
       "      <td>1</td>\n",
       "      <td>1</td>\n",
       "      <td>1</td>\n",
       "      <td>1</td>\n",
       "      <td>1</td>\n",
       "      <td>0.066667</td>\n",
       "      <td>1</td>\n",
       "      <td>...</td>\n",
       "      <td>0</td>\n",
       "      <td>0</td>\n",
       "      <td>0</td>\n",
       "      <td>0</td>\n",
       "      <td>0</td>\n",
       "      <td>0</td>\n",
       "      <td>0</td>\n",
       "      <td>0</td>\n",
       "      <td>0</td>\n",
       "      <td>0</td>\n",
       "    </tr>\n",
       "    <tr>\n",
       "      <th>2</th>\n",
       "      <td>1</td>\n",
       "      <td>0</td>\n",
       "      <td>0</td>\n",
       "      <td>0</td>\n",
       "      <td>1</td>\n",
       "      <td>0</td>\n",
       "      <td>0</td>\n",
       "      <td>1</td>\n",
       "      <td>0.000000</td>\n",
       "      <td>0</td>\n",
       "      <td>...</td>\n",
       "      <td>0</td>\n",
       "      <td>0</td>\n",
       "      <td>0</td>\n",
       "      <td>0</td>\n",
       "      <td>0</td>\n",
       "      <td>0</td>\n",
       "      <td>0</td>\n",
       "      <td>0</td>\n",
       "      <td>0</td>\n",
       "      <td>0</td>\n",
       "    </tr>\n",
       "    <tr>\n",
       "      <th>3</th>\n",
       "      <td>0</td>\n",
       "      <td>0</td>\n",
       "      <td>0</td>\n",
       "      <td>0</td>\n",
       "      <td>0</td>\n",
       "      <td>0</td>\n",
       "      <td>1</td>\n",
       "      <td>1</td>\n",
       "      <td>0.000000</td>\n",
       "      <td>0</td>\n",
       "      <td>...</td>\n",
       "      <td>0</td>\n",
       "      <td>0</td>\n",
       "      <td>0</td>\n",
       "      <td>0</td>\n",
       "      <td>0</td>\n",
       "      <td>0</td>\n",
       "      <td>0</td>\n",
       "      <td>0</td>\n",
       "      <td>0</td>\n",
       "      <td>0</td>\n",
       "    </tr>\n",
       "    <tr>\n",
       "      <th>4</th>\n",
       "      <td>0</td>\n",
       "      <td>0</td>\n",
       "      <td>0</td>\n",
       "      <td>0</td>\n",
       "      <td>1</td>\n",
       "      <td>0</td>\n",
       "      <td>1</td>\n",
       "      <td>1</td>\n",
       "      <td>0.000000</td>\n",
       "      <td>0</td>\n",
       "      <td>...</td>\n",
       "      <td>0</td>\n",
       "      <td>0</td>\n",
       "      <td>0</td>\n",
       "      <td>0</td>\n",
       "      <td>0</td>\n",
       "      <td>0</td>\n",
       "      <td>0</td>\n",
       "      <td>0</td>\n",
       "      <td>0</td>\n",
       "      <td>0</td>\n",
       "    </tr>\n",
       "  </tbody>\n",
       "</table>\n",
       "<p>5 rows × 685 columns</p>\n",
       "</div>"
      ],
      "text/plain": [
       "   male  book1  book2  book3  book4  book5  isMarried  isNoble  \\\n",
       "0     1      0      0      0      0      0          0        0   \n",
       "1     1      1      1      1      1      1          1        1   \n",
       "2     1      0      0      0      1      0          0        1   \n",
       "3     0      0      0      0      0      0          1        1   \n",
       "4     0      0      0      0      1      0          1        1   \n",
       "\n",
       "   numDeadRelations  boolDeadRelations       ...        house_The Citadel  \\\n",
       "0          0.733333                  1       ...                        0   \n",
       "1          0.066667                  1       ...                        0   \n",
       "2          0.000000                  0       ...                        0   \n",
       "3          0.000000                  0       ...                        0   \n",
       "4          0.000000                  0       ...                        0   \n",
       "\n",
       "   house_Thenn  house_Thirteen  house_Three-eyed crow  house_Undying Ones  \\\n",
       "0            0               0                      0                   0   \n",
       "1            0               0                      0                   0   \n",
       "2            0               0                      0                   0   \n",
       "3            0               0                      0                   0   \n",
       "4            0               0                      0                   0   \n",
       "\n",
       "   house_Unsullied  house_Windblown  house_Wise Masters  \\\n",
       "0                0                0                   0   \n",
       "1                0                0                   0   \n",
       "2                0                0                   0   \n",
       "3                0                0                   0   \n",
       "4                0                0                   0   \n",
       "\n",
       "   house_brotherhood without banners  house_wildling  \n",
       "0                                  0               0  \n",
       "1                                  0               0  \n",
       "2                                  0               0  \n",
       "3                                  0               0  \n",
       "4                                  0               0  \n",
       "\n",
       "[5 rows x 685 columns]"
      ]
     },
     "execution_count": 10,
     "metadata": {},
     "output_type": "execute_result"
    }
   ],
   "source": [
    "feature_characters.head()"
   ]
  },
  {
   "cell_type": "code",
   "execution_count": 11,
   "metadata": {
    "collapsed": false
   },
   "outputs": [],
   "source": [
    "#We will need to do feature selection as currently we have a lot of (685) features. We will use SelectFromModel from sklearn\n",
    "\n",
    "#Import the libraries\n",
    "from sklearn.svm import LinearSVC\n",
    "from sklearn.feature_selection import SelectFromModel\n",
    "\n",
    "#Using a linear SVC with C = 0.1. Lower the value of C, lesser the number of features we will get\n",
    "lsvc = LinearSVC(C=0.1, penalty=\"l1\", dual=False).fit(feature_characters, label_characters)\n",
    "model = SelectFromModel(lsvc, prefit=True)\n",
    "X_new = model.transform(feature_characters)"
   ]
  },
  {
   "cell_type": "code",
   "execution_count": 12,
   "metadata": {
    "collapsed": false
   },
   "outputs": [
    {
     "data": {
      "text/plain": [
       "(1946, 32)"
      ]
     },
     "execution_count": 12,
     "metadata": {},
     "output_type": "execute_result"
    }
   ],
   "source": [
    "X_new.shape"
   ]
  },
  {
   "cell_type": "raw",
   "metadata": {},
   "source": [
    "We now have a lotal of 32 features from 685"
   ]
  },
  {
   "cell_type": "code",
   "execution_count": 13,
   "metadata": {
    "collapsed": false
   },
   "outputs": [
    {
     "data": {
      "text/plain": [
       "(array([  0,   1,   2,   3,   4,   5,   6,   9,  11,  38, 108, 176, 229,\n",
       "        288, 290, 293, 304, 325, 327, 329, 342, 343, 378, 387, 454, 469,\n",
       "        503, 590, 604, 614, 616, 665]),)"
      ]
     },
     "execution_count": 13,
     "metadata": {},
     "output_type": "execute_result"
    }
   ],
   "source": [
    "#Get indexes for selected features\n",
    "selected_features = model.get_support() \n",
    "np.where(selected_features)"
   ]
  },
  {
   "cell_type": "code",
   "execution_count": 14,
   "metadata": {
    "collapsed": true
   },
   "outputs": [],
   "source": [
    "#Store selected features in a dataframe\n",
    "scaled_feature_characters = feature_characters.iloc[:,selected_features]"
   ]
  },
  {
   "cell_type": "code",
   "execution_count": 15,
   "metadata": {
    "collapsed": false
   },
   "outputs": [
    {
     "data": {
      "text/html": [
       "<div>\n",
       "<table border=\"1\" class=\"dataframe\">\n",
       "  <thead>\n",
       "    <tr style=\"text-align: right;\">\n",
       "      <th></th>\n",
       "      <th>male</th>\n",
       "      <th>book1</th>\n",
       "      <th>book2</th>\n",
       "      <th>book3</th>\n",
       "      <th>book4</th>\n",
       "      <th>book5</th>\n",
       "      <th>isMarried</th>\n",
       "      <th>boolDeadRelations</th>\n",
       "      <th>popularity</th>\n",
       "      <th>title_Casterly Rock</th>\n",
       "      <th>...</th>\n",
       "      <th>house_House Blackwood</th>\n",
       "      <th>house_House Bracken</th>\n",
       "      <th>house_House Frey</th>\n",
       "      <th>house_House Greyjoy</th>\n",
       "      <th>house_House Lannister</th>\n",
       "      <th>house_House Stark</th>\n",
       "      <th>house_House Targaryen</th>\n",
       "      <th>house_House Tully</th>\n",
       "      <th>house_House Tyrell</th>\n",
       "      <th>house_Night's Watch</th>\n",
       "    </tr>\n",
       "  </thead>\n",
       "  <tbody>\n",
       "    <tr>\n",
       "      <th>0</th>\n",
       "      <td>1</td>\n",
       "      <td>0</td>\n",
       "      <td>0</td>\n",
       "      <td>0</td>\n",
       "      <td>0</td>\n",
       "      <td>0</td>\n",
       "      <td>0</td>\n",
       "      <td>1</td>\n",
       "      <td>0.605351</td>\n",
       "      <td>0</td>\n",
       "      <td>...</td>\n",
       "      <td>0</td>\n",
       "      <td>0</td>\n",
       "      <td>0</td>\n",
       "      <td>0</td>\n",
       "      <td>0</td>\n",
       "      <td>0</td>\n",
       "      <td>0</td>\n",
       "      <td>0</td>\n",
       "      <td>0</td>\n",
       "      <td>0</td>\n",
       "    </tr>\n",
       "    <tr>\n",
       "      <th>1</th>\n",
       "      <td>1</td>\n",
       "      <td>1</td>\n",
       "      <td>1</td>\n",
       "      <td>1</td>\n",
       "      <td>1</td>\n",
       "      <td>1</td>\n",
       "      <td>1</td>\n",
       "      <td>1</td>\n",
       "      <td>0.896321</td>\n",
       "      <td>0</td>\n",
       "      <td>...</td>\n",
       "      <td>0</td>\n",
       "      <td>0</td>\n",
       "      <td>1</td>\n",
       "      <td>0</td>\n",
       "      <td>0</td>\n",
       "      <td>0</td>\n",
       "      <td>0</td>\n",
       "      <td>0</td>\n",
       "      <td>0</td>\n",
       "      <td>0</td>\n",
       "    </tr>\n",
       "    <tr>\n",
       "      <th>2</th>\n",
       "      <td>1</td>\n",
       "      <td>0</td>\n",
       "      <td>0</td>\n",
       "      <td>0</td>\n",
       "      <td>1</td>\n",
       "      <td>0</td>\n",
       "      <td>0</td>\n",
       "      <td>0</td>\n",
       "      <td>0.267559</td>\n",
       "      <td>0</td>\n",
       "      <td>...</td>\n",
       "      <td>0</td>\n",
       "      <td>0</td>\n",
       "      <td>0</td>\n",
       "      <td>0</td>\n",
       "      <td>0</td>\n",
       "      <td>0</td>\n",
       "      <td>0</td>\n",
       "      <td>0</td>\n",
       "      <td>0</td>\n",
       "      <td>0</td>\n",
       "    </tr>\n",
       "    <tr>\n",
       "      <th>3</th>\n",
       "      <td>0</td>\n",
       "      <td>0</td>\n",
       "      <td>0</td>\n",
       "      <td>0</td>\n",
       "      <td>0</td>\n",
       "      <td>0</td>\n",
       "      <td>1</td>\n",
       "      <td>0</td>\n",
       "      <td>0.183946</td>\n",
       "      <td>0</td>\n",
       "      <td>...</td>\n",
       "      <td>0</td>\n",
       "      <td>0</td>\n",
       "      <td>0</td>\n",
       "      <td>0</td>\n",
       "      <td>0</td>\n",
       "      <td>0</td>\n",
       "      <td>0</td>\n",
       "      <td>0</td>\n",
       "      <td>0</td>\n",
       "      <td>0</td>\n",
       "    </tr>\n",
       "    <tr>\n",
       "      <th>4</th>\n",
       "      <td>0</td>\n",
       "      <td>0</td>\n",
       "      <td>0</td>\n",
       "      <td>0</td>\n",
       "      <td>1</td>\n",
       "      <td>0</td>\n",
       "      <td>1</td>\n",
       "      <td>0</td>\n",
       "      <td>0.043478</td>\n",
       "      <td>0</td>\n",
       "      <td>...</td>\n",
       "      <td>0</td>\n",
       "      <td>0</td>\n",
       "      <td>0</td>\n",
       "      <td>0</td>\n",
       "      <td>0</td>\n",
       "      <td>0</td>\n",
       "      <td>0</td>\n",
       "      <td>0</td>\n",
       "      <td>0</td>\n",
       "      <td>0</td>\n",
       "    </tr>\n",
       "  </tbody>\n",
       "</table>\n",
       "<p>5 rows × 32 columns</p>\n",
       "</div>"
      ],
      "text/plain": [
       "   male  book1  book2  book3  book4  book5  isMarried  boolDeadRelations  \\\n",
       "0     1      0      0      0      0      0          0                  1   \n",
       "1     1      1      1      1      1      1          1                  1   \n",
       "2     1      0      0      0      1      0          0                  0   \n",
       "3     0      0      0      0      0      0          1                  0   \n",
       "4     0      0      0      0      1      0          1                  0   \n",
       "\n",
       "   popularity  title_Casterly Rock         ...           \\\n",
       "0    0.605351                    0         ...            \n",
       "1    0.896321                    0         ...            \n",
       "2    0.267559                    0         ...            \n",
       "3    0.183946                    0         ...            \n",
       "4    0.043478                    0         ...            \n",
       "\n",
       "   house_House Blackwood  house_House Bracken  house_House Frey  \\\n",
       "0                      0                    0                 0   \n",
       "1                      0                    0                 1   \n",
       "2                      0                    0                 0   \n",
       "3                      0                    0                 0   \n",
       "4                      0                    0                 0   \n",
       "\n",
       "   house_House Greyjoy  house_House Lannister  house_House Stark  \\\n",
       "0                    0                      0                  0   \n",
       "1                    0                      0                  0   \n",
       "2                    0                      0                  0   \n",
       "3                    0                      0                  0   \n",
       "4                    0                      0                  0   \n",
       "\n",
       "   house_House Targaryen  house_House Tully  house_House Tyrell  \\\n",
       "0                      0                  0                   0   \n",
       "1                      0                  0                   0   \n",
       "2                      0                  0                   0   \n",
       "3                      0                  0                   0   \n",
       "4                      0                  0                   0   \n",
       "\n",
       "   house_Night's Watch  \n",
       "0                    0  \n",
       "1                    0  \n",
       "2                    0  \n",
       "3                    0  \n",
       "4                    0  \n",
       "\n",
       "[5 rows x 32 columns]"
      ]
     },
     "execution_count": 15,
     "metadata": {},
     "output_type": "execute_result"
    }
   ],
   "source": [
    "scaled_feature_characters.head()"
   ]
  },
  {
   "cell_type": "code",
   "execution_count": 16,
   "metadata": {
    "collapsed": false
   },
   "outputs": [
    {
     "name": "stderr",
     "output_type": "stream",
     "text": [
      "/home/shubham/anaconda2/lib/python2.7/site-packages/sklearn/cross_validation.py:44: DeprecationWarning: This module was deprecated in version 0.18 in favor of the model_selection module into which all the refactored classes and functions are moved. Also note that the interface of the new CV iterators are different from that of this module. This module will be removed in 0.20.\n",
      "  \"This module will be removed in 0.20.\", DeprecationWarning)\n"
     ]
    },
    {
     "name": "stdout",
     "output_type": "stream",
     "text": [
      "Accuracy: 0.76 (+/- 0.06)\n"
     ]
    }
   ],
   "source": [
    "#We will use a Support Vector Classifier with cross-validation techniques to make our predictions\n",
    "#We split the data into training and testing set (80-20)\n",
    "#Further, we will divide the training set into 10 subsets and take each as testing set once and average out accuracy\n",
    "#Later, we will tune our SVM parameters to see if we can improve our accuracy\n",
    "\n",
    "from sklearn.cross_validation import train_test_split\n",
    "\n",
    "X_train, X_test, y_train, y_test = train_test_split(scaled_feature_characters, label_characters, test_size = 0.2, random_state = 42)\n",
    "\n",
    "from sklearn import svm\n",
    "from sklearn.cross_validation import KFold, cross_val_score\n",
    "\n",
    "k_fold = KFold(len(X_train), n_folds=10, shuffle=True, random_state=0)\n",
    "clf = svm.SVC()\n",
    "\n",
    "scores = cross_val_score(clf, X_train, y_train, cv=k_fold, n_jobs=1)\n",
    "print(\"Accuracy: %0.2f (+/- %0.2f)\" % (scores.mean(), scores.std() * 2))"
   ]
  },
  {
   "cell_type": "code",
   "execution_count": 17,
   "metadata": {
    "collapsed": false
   },
   "outputs": [
    {
     "name": "stderr",
     "output_type": "stream",
     "text": [
      "/home/shubham/anaconda2/lib/python2.7/site-packages/sklearn/grid_search.py:43: DeprecationWarning: This module was deprecated in version 0.18 in favor of the model_selection module into which all the refactored classes and functions are moved. This module will be removed in 0.20.\n",
      "  DeprecationWarning)\n"
     ]
    }
   ],
   "source": [
    "#We will now use Grid Search to hypertune our parameter kernel before using our classifier on testing set\n",
    "from sklearn.grid_search import GridSearchCV\n",
    "from sklearn.metrics import make_scorer\n",
    "from sklearn.metrics import fbeta_score, accuracy_score\n",
    "\n",
    "#Create the parameters list we wish to tune\n",
    "parameters = {'kernel': ['linear', 'rbf', 'poly']\n",
    "             }\n",
    "\n",
    "#Make an fbeta_score scoring object\n",
    "scorer = make_scorer(fbeta_score, beta=0.5)\n",
    "\n",
    "#Perform grid search on the classifier using 'scorer' as the scoring method\n",
    "grid_obj = GridSearchCV(clf, parameters, scoring=scorer)\n",
    "\n",
    "#Fit the grid search object to the training data and find the optimal parameters\n",
    "grid_fit = grid_obj.fit(X_train, y_train)\n",
    "\n",
    "# Get the estimator\n",
    "best_clf = grid_fit.best_estimator_\n"
   ]
  },
  {
   "cell_type": "code",
   "execution_count": 18,
   "metadata": {
    "collapsed": false
   },
   "outputs": [
    {
     "data": {
      "text/plain": [
       "SVC(C=1.0, cache_size=200, class_weight=None, coef0=0.0,\n",
       "  decision_function_shape=None, degree=3, gamma='auto', kernel='linear',\n",
       "  max_iter=-1, probability=False, random_state=None, shrinking=True,\n",
       "  tol=0.001, verbose=False)"
      ]
     },
     "execution_count": 18,
     "metadata": {},
     "output_type": "execute_result"
    }
   ],
   "source": [
    "best_clf"
   ]
  },
  {
   "cell_type": "code",
   "execution_count": 19,
   "metadata": {
    "collapsed": false
   },
   "outputs": [
    {
     "name": "stdout",
     "output_type": "stream",
     "text": [
      "0.782051282051\n"
     ]
    }
   ],
   "source": [
    "pred_char = best_clf.predict(X_test)\n",
    "print accuracy_score(y_test, pred_char)"
   ]
  },
  {
   "cell_type": "raw",
   "metadata": {},
   "source": [
    "We see that 'linear' kernel seems the best for the data using Support Vector Machines. Our 10-fold cross-validation gave us an accuracy of 76%, and on testing set we get an accuracy of 78%. We will now see if we can improve this using ensemble methods such as Random Forest. Later, we will also look at precision and recall which would be important in this case."
   ]
  },
  {
   "cell_type": "code",
   "execution_count": 20,
   "metadata": {
    "collapsed": false
   },
   "outputs": [
    {
     "name": "stdout",
     "output_type": "stream",
     "text": [
      "0.797435897436\n"
     ]
    }
   ],
   "source": [
    "from sklearn.ensemble import RandomForestClassifier\n",
    "clf1 = RandomForestClassifier()\n",
    "\n",
    "clf1.fit(X_train,y_train)\n",
    "\n",
    "pred= clf1.predict(X_test)\n",
    "print accuracy_score (y_test, pred)\n"
   ]
  },
  {
   "cell_type": "code",
   "execution_count": 21,
   "metadata": {
    "collapsed": true
   },
   "outputs": [],
   "source": [
    "#Hypertune parameters of Random Forest Classifier\n",
    "\n",
    "parameters = {'n_estimators': [10,50,100],\n",
    "             'min_samples_split': [2,10,20,50],\n",
    "             'max_features': ['sqrt', 'log2', 'auto']}\n",
    "\n",
    "#Perform grid search on the classifier using 'scorer' as the scoring method\n",
    "grid_obj = GridSearchCV(clf1, parameters, scoring=scorer)\n",
    "\n",
    "#Fit the grid search object to the training data and find the optimal parameters\n",
    "grid_fit = grid_obj.fit(X_train, y_train)\n",
    "\n",
    "# Get the estimator\n",
    "best_clf = grid_fit.best_estimator_"
   ]
  },
  {
   "cell_type": "code",
   "execution_count": 22,
   "metadata": {
    "collapsed": false
   },
   "outputs": [
    {
     "name": "stdout",
     "output_type": "stream",
     "text": [
      "Precision: 0.9257\n",
      "Recall: 0.8509\n",
      "Final accuracy score on the testing data: 0.8205\n",
      "Final F-score on the testing data: 0.8649\n"
     ]
    }
   ],
   "source": [
    "from sklearn.metrics import precision_score, recall_score\n",
    "\n",
    "best_predictions = best_clf.predict(X_test)\n",
    "\n",
    "\n",
    "precision =  precision_score(best_predictions,y_test)\n",
    "recall = recall_score(best_predictions, y_test)\n",
    "accuracy = accuracy_score(y_test, best_predictions)\n",
    "f_beta = fbeta_score(y_test, best_predictions, beta = 0.5)\n",
    "\n",
    "print \"Precision: {:.4f}\".format(precision)\n",
    "print \"Recall: {:.4f}\".format(recall)\n",
    "print \"Final accuracy score on the testing data: {:.4f}\".format(accuracy)\n",
    "print \"Final F-score on the testing data: {:.4f}\".format(f_beta)"
   ]
  },
  {
   "cell_type": "raw",
   "metadata": {},
   "source": [
    "Random Forest provides us a module to find best features. We will use it to see those features that are most relevant for distinguishing between alive and dead characters"
   ]
  },
  {
   "cell_type": "code",
   "execution_count": 23,
   "metadata": {
    "collapsed": true
   },
   "outputs": [],
   "source": [
    "importances = clf1.feature_importances_\n",
    "indices = np.argsort(importances)[::-1]"
   ]
  },
  {
   "cell_type": "code",
   "execution_count": 24,
   "metadata": {
    "collapsed": false
   },
   "outputs": [
    {
     "name": "stdout",
     "output_type": "stream",
     "text": [
      "   numDeadRelations  book4  book5  male  book1  isNoble  book3  \\\n",
      "0          0.733333      0      0     1      0        0      0   \n",
      "1          0.066667      1      1     1      1        1      1   \n",
      "2          0.000000      1      0     1      0        1      0   \n",
      "3          0.000000      0      0     0      0        1      0   \n",
      "4          0.000000      1      0     0      0        1      0   \n",
      "\n",
      "   title_Acorn Hall  book2  title_Brightwater    ...      title_Brother  \\\n",
      "0                 0      0                  0    ...                  0   \n",
      "1                 0      1                  0    ...                  0   \n",
      "2                 0      0                  0    ...                  0   \n",
      "3                 0      0                  0    ...                  0   \n",
      "4                 0      0                  0    ...                  0   \n",
      "\n",
      "   title_Blackcrown  popularity  title_Arbor  title_Bear Island  \\\n",
      "0                 0    0.605351            0                  0   \n",
      "1                 0    0.896321            0                  0   \n",
      "2                 0    0.267559            0                  0   \n",
      "3                 0    0.183946            0                  0   \n",
      "4                 0    0.043478            0                  0   \n",
      "\n",
      "   title_Big BucketThe Wull  boolDeadRelations  title_Banefort  \\\n",
      "0                         0                  1               0   \n",
      "1                         0                  1               0   \n",
      "2                         0                  0               0   \n",
      "3                         0                  0               0   \n",
      "4                         0                  0               0   \n",
      "\n",
      "   title_Black Wind  isPopular  \n",
      "0                 0          1  \n",
      "1                 0          1  \n",
      "2                 0          0  \n",
      "3                 0          0  \n",
      "4                 0          0  \n",
      "\n",
      "[5 rows x 32 columns]\n"
     ]
    }
   ],
   "source": [
    "print feature_characters.iloc[:,indices].head()"
   ]
  },
  {
   "cell_type": "markdown",
   "metadata": {},
   "source": [
    "## Finding Relationship between survival and number of dead relatives"
   ]
  },
  {
   "cell_type": "code",
   "execution_count": 25,
   "metadata": {
    "collapsed": false
   },
   "outputs": [
    {
     "data": {
      "image/png": "[encoded data removed]",
      "text/plain": [
       "<matplotlib.figure.Figure at 0x7ff2b4c44850>"
      ]
     },
     "execution_count": 25,
     "metadata": {},
     "output_type": "execute_result"
    }
   ],
   "source": [
    "data = character_predictions.groupby([\"boolDeadRelations\", \"isAlive\"]).count()[\"title\"].unstack().copy(deep = True)\n",
    "p = data.div(data.sum(axis = 1), axis = 0).plot.barh(stacked = True, rot = 0, width = .4)\n",
    "_ = p.set(yticklabels = [\"No\", \"Yes\"], xticklabels = \"\", xlabel = \"Proportion of Dead vs. Alive\", ylabel = \"Has Dead Relations\"), p.legend([\"Dead\", \"Alive\"])\n",
    "\n",
    "p.figure"
   ]
  },
  {
   "cell_type": "markdown",
   "metadata": {},
   "source": [
    "## Finding Relationship between survival and appearing in more books"
   ]
  },
  {
   "cell_type": "code",
   "execution_count": 26,
   "metadata": {
    "collapsed": false
   },
   "outputs": [],
   "source": [
    "character_predictions[\"no_of_books\"] = character_predictions.apply(lambda row: row['book1']+row['book2']+row['book3'] + row['book4'] + row['book5'], axis = 1)"
   ]
  },
  {
   "cell_type": "code",
   "execution_count": 27,
   "metadata": {
    "collapsed": false
   },
   "outputs": [
    {
     "data": {
      "image/png": "[encoded data removed]",
      "text/plain": [
       "<matplotlib.figure.Figure at 0x7ff2b3e22a10>"
      ]
     },
     "execution_count": 27,
     "metadata": {},
     "output_type": "execute_result"
    }
   ],
   "source": [
    "data = character_predictions.groupby([\"no_of_books\", \"isAlive\"]).count()[\"title\"].unstack().copy(deep = True)\n",
    "p = data.div(data.sum(axis = 1), axis = 0).plot.barh(stacked = True, rot = 0, width = .4)\n",
    "_ = p.set(xticklabels = \"\", ylabel = \"No. of Books\", xlabel = \"Proportion of Dead vs. Alive\"), p.legend([\"Dead\", \"Alive\"], loc = \"upper right\", ncol = 2, borderpad = -.15)\n",
    "p.figure"
   ]
  },
  {
   "cell_type": "markdown",
   "metadata": {},
   "source": [
    "## Finding Relationship between survival and belonging to a noble family"
   ]
  },
  {
   "cell_type": "code",
   "execution_count": 28,
   "metadata": {
    "collapsed": false
   },
   "outputs": [
    {
     "data": {
      "image/png": "[encoded data removed]",
      "text/plain": [
       "<matplotlib.figure.Figure at 0x7ff2b4ca6ed0>"
      ]
     },
     "execution_count": 28,
     "metadata": {},
     "output_type": "execute_result"
    }
   ],
   "source": [
    "data = character_predictions.groupby([\"isNoble\", \"isAlive\"]).count()[\"title\"].unstack().copy(deep = True)\n",
    "p = data.div(data.sum(axis = 1), axis = 0).plot.barh(stacked = True, rot = 0, width = .4)\n",
    "_ = p.set(yticklabels = [\"No\", \"Yes\"], xticklabels = \"\", xlabel = \"Proportion of Dead vs. Alive\", ylabel = \"Belongs to a Noble family\"), p.legend([\"Dead\", \"Alive\"])\n",
    "\n",
    "p.figure"
   ]
  },
  {
   "cell_type": "markdown",
   "metadata": {},
   "source": [
    "## How does house relate to survival (Only house with greater than 10 members have been considered)"
   ]
  },
  {
   "cell_type": "code",
   "execution_count": 29,
   "metadata": {
    "collapsed": false
   },
   "outputs": [
    {
     "data": {
      "image/png": "[encoded data removed]",
      "text/plain": [
       "<matplotlib.figure.Figure at 0x7ff2b0808b10>"
      ]
     },
     "execution_count": 29,
     "metadata": {},
     "output_type": "execute_result"
    }
   ],
   "source": [
    "data = character_predictions.groupby([\"house\", \"isAlive\"]).count()[\"title\"].unstack().copy(deep = True)\n",
    "data.loc[:, \"total\"]= data.sum(axis = 1)\n",
    "p = data[data['total'] > 10].sort_values(\"total\")[[0, 1]].plot.barh(stacked = True, rot = 0, figsize = (14, 12),)\n",
    "_ = p.set(xlabel = \"No. of Characters\", ylabel = \"House\"), p.legend([\"Dead\", \"Alive\"], loc = \"lower right\")\n",
    "p.figure"
   ]
  },
  {
   "cell_type": "code",
   "execution_count": null,
   "metadata": {
    "collapsed": true
   },
   "outputs": [],
   "source": []
  }
 ],
 "metadata": {
  "kernelspec": {
   "display_name": "Python 2",
   "language": "python",
   "name": "python2"
  },
  "language_info": {
   "codemirror_mode": {
    "name": "ipython",
    "version": 2
   },
   "file_extension": ".py",
   "mimetype": "text/x-python",
   "name": "python",
   "nbconvert_exporter": "python",
   "pygments_lexer": "ipython2",
   "version": "2.7.13"
  }
 },
 "nbformat": 4,
 "nbformat_minor": 2
}
